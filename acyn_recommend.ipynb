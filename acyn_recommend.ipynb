{
  "nbformat": 4,
  "nbformat_minor": 0,
  "metadata": {
    "orig_nbformat": 2,
    "colab": {
      "name": "acyn_recommend",
      "provenance": [],
      "collapsed_sections": []
    },
    "kernelspec": {
      "name": "python3",
      "display_name": "Python 3"
    }
  },
  "cells": [
    {
      "cell_type": "code",
      "metadata": {
        "id": "2eeMIErDxpZx",
        "colab_type": "code",
        "colab": {}
      },
      "source": [
        "# !pip install konlpy\n",
        "\n",
        "# 토큰화를 위한 모듈\n",
        "from konlpy.tag import Okt\n",
        "import pandas as pd\n",
        "import re\n",
        "\n",
        "# 여러 가지 보기\n",
        "pd.set_option('display.max_columns', 2000)\n",
        "pd.set_option('display.width', 1000)\n",
        "\n",
        "naver_wt = pd.read_csv('./drive/My Drive/acyn/naver_webtoon.csv', delimiter = '\\t', header=None, encoding='utf-8')\n",
        "naver_wt = pd.DataFrame({'name' : naver_wt[0].str.split(',').str[0], 'intro' : naver_wt[0] }, columns = ['name', 'intro'])\n",
        "\n",
        "daum_wt = pd.read_csv('./drive/My Drive/acyn/daum_webtoon.csv', delimiter = '\\t', header=None, encoding='utf-8')\n",
        "daum_wt = pd.DataFrame({'name' : daum_wt[0].str.split(',').str[0], 'intro' : daum_wt[0]}, columns = ['name', 'intro'])\n",
        "\n",
        "netflix = pd.read_csv('./drive/My Drive/acyn/netflix.csv')\n",
        "netflix = netflix.dropna(axis=0)\n",
        "netflix = netflix.drop(['Unnamed: 0'], axis=1)\n",
        "netflix_plot = netflix['netflix']\n",
        "\n",
        "sw = ['.', ',', '\"','\"&', '\"\"\"','\\n', '이', '가', '을', '를', '는', '은', '과', '의', '로','에서','에', '도','에게','와', '인']\n",
        "\n",
        "for intro_num in range(len(naver_wt.intro)):\n",
        "    words = re.compile(\"[^\\w]\").sub(' ', naver_wt.intro[intro_num])\n",
        "    words = Okt().morphs(words)\n",
        "    sw_removed = []\n",
        "    for i in words:\n",
        "       if i.lower() not in sw:\n",
        "           sw_removed.append(i)\n",
        "    naver_wt.intro[intro_num] = sw_removed\n",
        "\n",
        "for intro_num in range(len(daum_wt.intro)):\n",
        "    words = re.compile(\"[^\\w]\").sub(' ', daum_wt.intro[intro_num])\n",
        "    words = Okt().morphs(words)\n",
        "    sw_removed = []\n",
        "    for i in words:\n",
        "       if i.lower() not in sw:\n",
        "           sw_removed.append(i)\n",
        "    daum_wt.intro[intro_num] = sw_removed\n",
        "\n",
        "toknized_plots_list = []\n",
        "\n",
        "for plot in netflix_plot:\n",
        "  words_list_for_one_plot = Okt().morphs(plot)\n",
        "  toknized_plots_list.append(words_list_for_one_plot)\n",
        "\n",
        "netflix[\"tokenized_plot\"] = toknized_plots_list\n",
        "    \n"
      ],
      "execution_count": null,
      "outputs": []
    },
    {
      "cell_type": "code",
      "metadata": {
        "id": "9jKB0N3G6sJx",
        "colab_type": "code",
        "colab": {
          "base_uri": "https://localhost:8080/",
          "height": 107
        },
        "outputId": "3a5f8a37-4e30-4cfe-dc0a-57b1b0f9b474"
      },
      "source": [
        "input_wd = input()\n",
        "\n",
        "naver_wt_recommend = []\n",
        "daum_wt_recommend = []\n",
        "\n",
        "for intro_num in range(len(naver_wt.intro)):\n",
        "    if input_wd in naver_wt.intro[intro_num] :\n",
        "        naver_wt_recommend.append(naver_wt.name[intro_num])\n",
        "\n",
        "for intro_num in range(len(daum_wt.intro)):\n",
        "    if input_wd in daum_wt.intro[intro_num] :\n",
        "        daum_wt_recommend.append(daum_wt.name[intro_num])\n",
        "\n",
        "output_title = []\n",
        "\n",
        "for video in netflix.iterrows():\n",
        "  tokenized = video[1][5]\n",
        "  for word in tokenized:\n",
        "      if word == input_wd:\n",
        "        output_title.append(video[1][1])\n",
        "\n",
        "print(\"추천 네이버 웹툰 :\",naver_wt_recommend)\n",
        "print(\"추천 다음 웹툰 :\",daum_wt_recommend)\n",
        "print(\"추천 넷플릭스 : \", output_title)\n"
      ],
      "execution_count": null,
      "outputs": [
        {
          "output_type": "stream",
          "text": [
            "학교\n",
            "추천 네이버 웹툰 : ['인생존망', '야자괴담', '럭키언럭키', '셧업앤댄스', '커피도둑', '소녀재판', '학교정벌', '신이 담긴 아이', '만찢남녀', 'Here U Are']\n",
            "추천 다음 웹툰 : ['아싸가 알아버렸다', '이대로 멈출 순 없다', '학교대표', '우리학교 김선생님']\n",
            "추천 넷플릭스 :  ['꼴찌 마녀 밀드레드', 'The Principal', '학교생활', '핑키 멀링키', '보고싶다', '러브포텐: 순정의 시대', '러브 라이브! School idol project', '요리고교생', '카케구루이', '그린하우스 아카데미', '굿모닝 콜', '걸즈 앤 판처', '그녀의 이름은 난노', '에버 애프터 하이', '엘리트들', '샤를로트', '백스테이지', '선생 김봉두', '가질 수 있다면', '여고괴담 두번째 이야기', '여고괴담 4: 목소리', '트윈스터즈', '협객 소걸아', '더 리허설', '아웃사이더', '루저의 역습', '뉴 가이', '뉴 가이', '키싱 부스', '크래프트', '설득의 신', '로미나', '칠소복', '칠소복', 'Nothing in Return', '네버 렛 미 고', '노바: 미래의 학교', '아적야만동학: 거친 녀석들', '아적야만동학: 거친 녀석들', '아적야만동학: 거친 녀석들', '기적의 학교', '맥팔랜드 USA', '너의 췌장을 먹고 싶어', '나는 거인들을 죽인다', '허리케인 비앙카', '사냥의 계절', '신부님은 골키퍼', '우정의 조건', '한공주', '폴른: 추락천사', '엔더스 게임', '이모 더 뮤지컬', '돈 크라이 마미', '디태치먼트', '조폐국 침입 프로젝트', '코치 카터', '캐리', '브루노와 부츠: 수영장을 부탁해', '블루 마운틴 스테이트: 더 라이즈 오브 사드랜드', \"바비와 동생들이 함께하는 '포니 테일'\", '합격!', '봄의 멜로디', '내가 널 사랑할 수 없는 10가지 이유', '희망의 딸들', '지상의 별처럼', '페리스의 해방', '사관과 신사', '더 이상 참을 수 없어', '감옥학원', '오, 라모나!', '내안의 그놈', '스파이더맨: 파 프롬 홈', '인간수업', '인간수업']\n"
          ],
          "name": "stdout"
        }
      ]
    }
  ]
}